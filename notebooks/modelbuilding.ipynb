{
 "cells": [
  {
   "cell_type": "code",
   "execution_count": 1,
   "id": "03b9c0aa",
   "metadata": {},
   "outputs": [],
   "source": [
    "import pandas as pd"
   ]
  },
  {
   "cell_type": "code",
   "execution_count": 2,
   "id": "e92e94ca",
   "metadata": {},
   "outputs": [],
   "source": [
    "x=pd.read_csv(r'C:\\Users\\hp\\Documents\\mlendtoend\\data\\preprocessdata\\x.csv')"
   ]
  },
  {
   "cell_type": "code",
   "execution_count": 3,
   "id": "5a7fabfa",
   "metadata": {},
   "outputs": [],
   "source": [
    "y=pd.read_csv(r'C:\\Users\\hp\\Documents\\mlendtoend\\data\\preprocessdata\\y.csv')"
   ]
  },
  {
   "cell_type": "code",
   "execution_count": 4,
   "id": "7610c3c0",
   "metadata": {},
   "outputs": [],
   "source": [
    "from sklearn.preprocessing import StandardScaler\n",
    "from sklearn.model_selection import train_test_split"
   ]
  },
  {
   "cell_type": "code",
   "execution_count": 5,
   "id": "6d48ed8b",
   "metadata": {},
   "outputs": [],
   "source": [
    "x_train,x_test,y_train,y_test=train_test_split(x,y,random_state=42,test_size=.3,stratify=y)"
   ]
  },
  {
   "cell_type": "code",
   "execution_count": 6,
   "id": "0384b792",
   "metadata": {},
   "outputs": [
    {
     "data": {
      "text/plain": [
       "((32709, 23), (32709, 1))"
      ]
     },
     "execution_count": 6,
     "metadata": {},
     "output_type": "execute_result"
    }
   ],
   "source": [
    "x_train.shape,y_train.shape"
   ]
  },
  {
   "cell_type": "code",
   "execution_count": 8,
   "id": "8f3062b6",
   "metadata": {},
   "outputs": [],
   "source": [
    "scaler=StandardScaler()\n",
    "x_train_scaled=scaler.fit_transform(x_train)\n",
    "x_test_scaled=scaler.transform(x_test)"
   ]
  },
  {
   "cell_type": "code",
   "execution_count": 11,
   "id": "f11a49dc",
   "metadata": {},
   "outputs": [
    {
     "name": "stderr",
     "output_type": "stream",
     "text": [
      "c:\\Users\\hp\\Documents\\mlendtoend\\venv\\lib\\site-packages\\sklearn\\utils\\validation.py:1408: DataConversionWarning: A column-vector y was passed when a 1d array was expected. Please change the shape of y to (n_samples, ), for example using ravel().\n",
      "  y = column_or_1d(y, warn=True)\n"
     ]
    },
    {
     "name": "stdout",
     "output_type": "stream",
     "text": [
      "              precision    recall  f1-score   support\n",
      "\n",
      "           0       0.73      0.71      0.72      7010\n",
      "           1       0.72      0.73      0.72      7009\n",
      "\n",
      "    accuracy                           0.72     14019\n",
      "   macro avg       0.72      0.72      0.72     14019\n",
      "weighted avg       0.72      0.72      0.72     14019\n",
      "\n"
     ]
    }
   ],
   "source": [
    "from sklearn.linear_model import LogisticRegression\n",
    "lr=LogisticRegression()\n",
    "lr.fit(x_train_scaled,y_train)\n",
    "Predict=lr.predict(x_test_scaled)\n",
    "from sklearn.metrics import classification_report\n",
    "print(classification_report(y_test,Predict))"
   ]
  },
  {
   "cell_type": "code",
   "execution_count": 13,
   "id": "b10d4f74",
   "metadata": {},
   "outputs": [
    {
     "name": "stdout",
     "output_type": "stream",
     "text": [
      "              precision    recall  f1-score   support\n",
      "\n",
      "           0       0.75      0.73      0.74      7010\n",
      "           1       0.74      0.76      0.75      7009\n",
      "\n",
      "    accuracy                           0.74     14019\n",
      "   macro avg       0.74      0.74      0.74     14019\n",
      "weighted avg       0.74      0.74      0.74     14019\n",
      "\n"
     ]
    }
   ],
   "source": [
    "from sklearn.tree import DecisionTreeClassifier\n",
    "lr=DecisionTreeClassifier()\n",
    "lr.fit(x_train_scaled,y_train)\n",
    "Predict=lr.predict(x_test_scaled)\n",
    "from sklearn.metrics import classification_report\n",
    "print(classification_report(y_test,Predict))\n"
   ]
  },
  {
   "cell_type": "code",
   "execution_count": 14,
   "id": "3a2db020",
   "metadata": {},
   "outputs": [],
   "source": [
    "import pickle"
   ]
  },
  {
   "cell_type": "code",
   "execution_count": 15,
   "id": "bd14c05e",
   "metadata": {},
   "outputs": [],
   "source": [
    "with open(r'C:\\Users\\hp\\Documents\\mlendtoend\\models\\model.pkl', 'wb') as file:\n",
    "        pickle.dump(lr, file)"
   ]
  },
  {
   "cell_type": "code",
   "execution_count": null,
   "id": "2b524165",
   "metadata": {},
   "outputs": [],
   "source": [
    "with open(r'C:\\Users\\hp\\Documents\\mlendtoend\\models\\model.pkl', 'rb') as file: \n",
    "        loaded_model = pickle.load(file)"
   ]
  },
  {
   "cell_type": "code",
   "execution_count": 18,
   "id": "ea3a5bd2",
   "metadata": {},
   "outputs": [
    {
     "data": {
      "text/plain": [
       "array([0, 0, 1, ..., 1, 1, 0], shape=(14019,))"
      ]
     },
     "execution_count": 18,
     "metadata": {},
     "output_type": "execute_result"
    }
   ],
   "source": [
    "loaded_model.predict(x_test_scaled)"
   ]
  },
  {
   "cell_type": "code",
   "execution_count": null,
   "id": "a64084db",
   "metadata": {},
   "outputs": [],
   "source": []
  }
 ],
 "metadata": {
  "kernelspec": {
   "display_name": "venv",
   "language": "python",
   "name": "python3"
  },
  "language_info": {
   "codemirror_mode": {
    "name": "ipython",
    "version": 3
   },
   "file_extension": ".py",
   "mimetype": "text/x-python",
   "name": "python",
   "nbconvert_exporter": "python",
   "pygments_lexer": "ipython3",
   "version": "3.10.0"
  }
 },
 "nbformat": 4,
 "nbformat_minor": 5
}
